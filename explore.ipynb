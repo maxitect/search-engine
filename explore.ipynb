{
 "cells": [
  {
   "cell_type": "markdown",
   "metadata": {},
   "source": [
    "MS Marco\n"
   ]
  },
  {
   "cell_type": "code",
   "execution_count": 94,
   "metadata": {},
   "outputs": [
    {
     "name": "stdout",
     "output_type": "stream",
     "text": [
      "The autoreload extension is already loaded. To reload it, use:\n",
      "  %reload_ext autoreload\n"
     ]
    }
   ],
   "source": [
    "%load_ext autoreload\n",
    "%autoreload 2\n",
    "\n",
    "from data import ms_marco\n",
    "from collections import Counter\n",
    "import matplotlib.pyplot as plt\n",
    "\n",
    "ds = ms_marco.load_ms_marco()"
   ]
  },
  {
   "cell_type": "code",
   "execution_count": 109,
   "metadata": {},
   "outputs": [
    {
     "data": {
      "text/plain": [
       "DatasetDict({\n",
       "    validation: Dataset({\n",
       "        features: ['answers', 'passages', 'query', 'query_id', 'query_type', 'wellFormedAnswers'],\n",
       "        num_rows: 10047\n",
       "    })\n",
       "    train: Dataset({\n",
       "        features: ['answers', 'passages', 'query', 'query_id', 'query_type', 'wellFormedAnswers'],\n",
       "        num_rows: 82326\n",
       "    })\n",
       "    test: Dataset({\n",
       "        features: ['answers', 'passages', 'query', 'query_id', 'query_type', 'wellFormedAnswers'],\n",
       "        num_rows: 9650\n",
       "    })\n",
       "})"
      ]
     },
     "execution_count": 109,
     "metadata": {},
     "output_type": "execute_result"
    }
   ],
   "source": [
    "ds"
   ]
  },
  {
   "cell_type": "markdown",
   "metadata": {},
   "source": [
    "There are a number of queries with not exactly one correct answer in the dataset.\n",
    "\n",
    "To better prepare the dataset, each item $i$ should be \n",
    "- One question $q_i$\n",
    "- 1 positive passage $p_i^+$\n",
    "- $n$ irrelevant (negative passages) $p_{i,j}^-$"
   ]
  },
  {
   "cell_type": "code",
   "execution_count": 39,
   "metadata": {},
   "outputs": [
    {
     "name": "stdout",
     "output_type": "stream",
     "text": [
      "Counter({1: 71726, 2: 7254, 0: 2622, 3: 623, 4: 91, 5: 6, 7: 2, 6: 2})\n"
     ]
    }
   ],
   "source": [
    "train_ds = ds['train']\n",
    "\n",
    "num_selected = []\n",
    "for idx, row in enumerate(train_ds):\n",
    "    num_selected.append(sum(row['passages']['is_selected'])) "
   ]
  },
  {
   "cell_type": "code",
   "execution_count": 51,
   "metadata": {},
   "outputs": [
    {
     "data": {
      "text/plain": [
       "[(0, 3.184899059835289),\n",
       " (1, 87.12435925467045),\n",
       " (2, 8.811311128926464),\n",
       " (3, 0.7567475645604063),\n",
       " (4, 0.11053616111556495),\n",
       " (5, 0.007288098535092194),\n",
       " (6, 0.0024293661783640645),\n",
       " (7, 0.0024293661783640645)]"
      ]
     },
     "execution_count": 51,
     "metadata": {},
     "output_type": "execute_result"
    }
   ],
   "source": [
    "[(i,j/len(num_selected)*100) for i,j in sorted(Counter(num_selected).items())]"
   ]
  },
  {
   "cell_type": "code",
   "execution_count": 38,
   "metadata": {},
   "outputs": [
    {
     "data": {
      "image/png": "[encoded data removed]",
      "text/plain": [
       "<Figure size 640x480 with 1 Axes>"
      ]
     },
     "metadata": {},
     "output_type": "display_data"
    }
   ],
   "source": [
    "plt.hist(num_selected)\n",
    "plt.xlabel('Number of selected passages')\n",
    "plt.ylabel('Number of samples')\n",
    "plt.title('Distribution of number of selected passages')\n",
    "plt.show()"
   ]
  },
  {
   "cell_type": "markdown",
   "metadata": {},
   "source": [
    "We should also aim to give \"hard\" negatives first, and then get other negatives."
   ]
  },
  {
   "cell_type": "code",
   "execution_count": 60,
   "metadata": {},
   "outputs": [
    {
     "data": {
      "text/plain": [
       "71726"
      ]
     },
     "execution_count": 60,
     "metadata": {},
     "output_type": "execute_result"
    }
   ],
   "source": [
    "def rows_k_answers(ds, k=1):\n",
    "    # Returns sorted list of rows with k answers\n",
    "    num_selected = []\n",
    "    for idx, row in enumerate(ds):\n",
    "        num_selected.append(sum(row['passages']['is_selected'])) \n",
    "\n",
    "    rows = [i for i, x in enumerate(num_selected) if x == k ]\n",
    "    return rows\n",
    "\n",
    "\n",
    "single_correct_rows = rows_k_answers(train_ds, k=1)\n",
    "len(single_correct_rows)"
   ]
  },
  {
   "cell_type": "code",
   "execution_count": 71,
   "metadata": {},
   "outputs": [
    {
     "data": {
      "text/plain": [
       "{'answers': [\"In a New York State hermit's letter to the editor of an Adirondack Mountain newspaper.\"],\n",
       " 'passages': {'is_selected': [1, 0, 0, 0, 0, 0, 0],\n",
       "  'passage_text': [\"The first reference to the phrase, '...it is what it is,' that I've come across is from 1943, in a New York State hermit's letter to the editor of an Adirondack Mountain newspaper. The hermit was named Noah John Rondeau, and he concluded his letter with this particular phrase.\",\n",
       "   'While servant leadership is a timeless concept, the phrase “servant leadership” was coined by Robert K. Greenleaf in The Servant as Leader, an essay that he first published in 1970. In that essay, Greenleaf said:',\n",
       "   'Related Questions. Who first coined the phrase, You got what you wanted, but you lost what you had or They got what they wanted, but they los... I know that this phrase is included in the Disney movie The Princess and the Frog, but I think it is much older than that.',\n",
       "   'The phrase is stupid enough when rationalizing insufficient performance, but it’s especially damaging when “ It is what it is ” is used in framing a response to a problem. “Well, that route to the objective is blocked.',\n",
       "   'While you’ll never hear me use the phrase “It is what it is”, there is value in maintaining a portion of your attitude that is stoic in nature. Know what you can control and what you can’t control. And the first thing to accept that you can’t control is the past.',\n",
       "   'To say someone coined a phrase means that he or she first used it  or is otherwise credited with its origin. Writer Francis Brett  Young coined that particular phrase in 194 … 0.',\n",
       "   'Brain (22,552). It is what it is, has become an all-purpose cliche used by celebrities, sports figures, politicians and population in general. In 1949, the adage was used in the Nebraska State Journal. In 1919, Edward Hegeler of The Monist, Vol 29, used the phrase in reference to a stick.'],\n",
       "  'url': ['http://painintheenglish.com/case/4284/',\n",
       "   'https://www.greenleaf.org/what-is-servant-leadership/',\n",
       "   'http://www.webanswers.com/social-sciences/language/origins-of-words/who-first-coined-the-phrase-it-is-what-it-is-66445f',\n",
       "   'http://www.themilitaryleader.com/stupid-phrase-it-is-what-it-is/',\n",
       "   'http://www.themilitaryleader.com/stupid-phrase-it-is-what-it-is/',\n",
       "   \"http://www.answers.com/Q/Who_coined_the_phrase_'coined_the_phrase'\",\n",
       "   'http://www.webanswers.com/social-sciences/language/origins-of-words/who-first-coined-the-phrase-it-is-what-it-is-66445f']},\n",
       " 'query': 'who coined the phrase it is what it is',\n",
       " 'query_id': 19716,\n",
       " 'query_type': 'person',\n",
       " 'wellFormedAnswers': []}"
      ]
     },
     "execution_count": 71,
     "metadata": {},
     "output_type": "execute_result"
    }
   ],
   "source": [
    "row"
   ]
  },
  {
   "cell_type": "code",
   "execution_count": 83,
   "metadata": {},
   "outputs": [
    {
     "data": {
      "text/plain": [
       "\"The first reference to the phrase, '...it is what it is,' that I've come across is from 1943, in a New York State hermit's letter to the editor of an Adirondack Mountain newspaper. The hermit was named Noah John Rondeau, and he concluded his letter with this particular phrase.\""
      ]
     },
     "execution_count": 83,
     "metadata": {},
     "output_type": "execute_result"
    }
   ],
   "source": [
    "row['passages']['passage_text'][0]"
   ]
  },
  {
   "cell_type": "code",
   "execution_count": 90,
   "metadata": {},
   "outputs": [
    {
     "name": "stdout",
     "output_type": "stream",
     "text": [
      "6\n"
     ]
    }
   ],
   "source": [
    "import torch\n",
    "row = train_ds[single_correct_rows[15]]\n",
    "is_selected = torch.tensor(row['passages']['is_selected'])\n",
    "selected_idx = torch.argwhere(is_selected)\n",
    "negatives_idxs = torch.argwhere(~is_selected)\n",
    "\n",
    "positive_answer = []\n",
    "negative_answers = []\n",
    "\n",
    "for text, is_selected in zip(row['passages']['passage_text'], row['passages']['is_selected']):\n",
    "    if is_selected:\n",
    "        positive_answer.append(text)\n",
    "    else:\n",
    "        negative_answers.append(text)"
   ]
  },
  {
   "cell_type": "code",
   "execution_count": 91,
   "metadata": {},
   "outputs": [
    {
     "data": {
      "text/plain": [
       "('what is rba',\n",
       " ['Results-Based Accountability® (also known as RBA) is a disciplined way of thinking and taking action that communities can use to improve the lives of children, youth, families, adults and the community as a whole. RBA is also used by organizations to improve the performance of their programs. Creating Community Impact with RBA. Community impact focuses on conditions of well-being for children, families and the community as a whole that a group of leaders is working collectively to improve. For example: “Residents with good jobs,” “Children ready for school,” or “A safe and clean neighborhood”.'],\n",
       " [\"Since 2007, the RBA's outstanding reputation has been affected by the 'Securency' or NPA scandal. These RBA subsidiaries were involved in bribing overseas officials so that Australia might win lucrative note-printing contracts. The assets of the bank include the gold and foreign exchange reserves of Australia, which is estimated to have a net worth of A$101 billion. Nearly 94% of the RBA's employees work at its headquarters in Sydney, New South Wales and at the Business Resumption Site.\",\n",
       "  \"The Reserve Bank of Australia (RBA) came into being on 14 January 1960 as Australia 's central bank and banknote issuing authority, when the Reserve Bank Act 1959 removed the central banking functions from the Commonwealth Bank. The assets of the bank include the gold and foreign exchange reserves of Australia, which is estimated to have a net worth of A$101 billion. Nearly 94% of the RBA's employees work at its headquarters in Sydney, New South Wales and at the Business Resumption Site.\",\n",
       "  'RBA Recognized with the 2014 Microsoft US Regional Partner of the ... by PR Newswire. Contract Awarded for supply and support the. Securitisations System used for risk management and analysis. ',\n",
       "  'The inner workings of a rebuildable atomizer are surprisingly simple. The coil inside the RBA is made of some type of resistance wire, normally Kanthal or nichrome. When a current is applied to the coil (resistance wire), it heats up and the heated coil then vaporizes the eliquid. 1 The bottom feed RBA is, perhaps, the easiest of all RBA types to build, maintain, and use. 2  It is filled from below, much like bottom coil clearomizer. 3  Bottom feed RBAs can utilize cotton instead of silica for the wick. 4  The Genesis, or genny, is a top feed RBA that utilizes a short woven mesh wire.',\n",
       "  'Results-Based Accountability® (also known as RBA) is a disciplined way of thinking and taking action that communities can use to improve the lives of children, youth, families, adults and the community as a whole. RBA is also used by organizations to improve the performance of their programs. RBA improves the lives of children, families, and communities and the performance of programs because RBA: 1  Gets from talk to action quickly; 2  Is a simple, common sense process that everyone can understand; 3  Helps groups to surface and challenge assumptions that can be barriers to innovation;',\n",
       "  'RBA uses a data-driven, decision-making process to help communities and organizations get beyond talking about problems to taking action to solve problems. It is a simple, common sense framework that everyone can understand. RBA starts with ends and works backward, towards means. The “end” or difference you are trying to make looks slightly different if you are working on a broad community level or are focusing on your specific program or organization. RBA improves the lives of children, families, and communities and the performance of programs because RBA: 1  Gets from talk to action quickly; 2  Is a simple, common sense process that everyone can understand; 3  Helps groups to surface and challenge assumptions that can be barriers to innovation;',\n",
       "  'vs. NetIQ Identity Manager. Risk-based authentication (RBA) is a method of applying varying levels of stringency to authentication processes based on the likelihood that access to a given system could result in its being compromised. Risk-based authentication can be categorized as either user-dependent or transaction-dependent. User-dependent RBA processes employ the same authentication for every session initiated by a given user; the exact credentials that the site demands depend on who the user is.',\n",
       "  'A rebuildable atomizer (RBA), often referred to as simply a “rebuildable,” is just a special type of atomizer used in the Vape Pen and Mod Industry that connects to a personal vaporizer. 1 The bottom feed RBA is, perhaps, the easiest of all RBA types to build, maintain, and use. 2  It is filled from below, much like bottom coil clearomizer. 3  Bottom feed RBAs can utilize cotton instead of silica for the wick. 4  The Genesis, or genny, is a top feed RBA that utilizes a short woven mesh wire.',\n",
       "  'Get To Know Us. RBA is a digital and technology consultancy with roots in strategy, design and technology. Our team of specialists help progressive companies deliver modern digital experiences backed by proven technology engineering. '])"
      ]
     },
     "execution_count": 91,
     "metadata": {},
     "output_type": "execute_result"
    }
   ],
   "source": [
    "\n",
    "\n",
    "def get_entry_item(idx):\n",
    "    row = train_ds[idx]\n",
    "    query = row['query']\n",
    "\n",
    "    # Get positive and negative answers\n",
    "    positive_answer = []\n",
    "    negative_answers = []   \n",
    "    for text, is_selected in zip(row['passages']['passage_text'], row['passages']['is_selected']):\n",
    "        if is_selected:\n",
    "            positive_answer.append(text)\n",
    "        else:\n",
    "            negative_answers.append(text)\n",
    "    return query, positive_answer, negative_answers\n",
    "\n",
    "get_entry_item(0)"
   ]
  },
  {
   "cell_type": "code",
   "execution_count": 92,
   "metadata": {},
   "outputs": [
    {
     "data": {
      "text/plain": [
       "{'answers': ['Results-Based Accountability is a disciplined way of thinking and taking action that communities can use to improve the lives of children, youth, families, adults and the community as a whole.'],\n",
       " 'passages': {'is_selected': [0, 0, 0, 0, 0, 1, 0, 0, 0, 0],\n",
       "  'passage_text': [\"Since 2007, the RBA's outstanding reputation has been affected by the 'Securency' or NPA scandal. These RBA subsidiaries were involved in bribing overseas officials so that Australia might win lucrative note-printing contracts. The assets of the bank include the gold and foreign exchange reserves of Australia, which is estimated to have a net worth of A$101 billion. Nearly 94% of the RBA's employees work at its headquarters in Sydney, New South Wales and at the Business Resumption Site.\",\n",
       "   \"The Reserve Bank of Australia (RBA) came into being on 14 January 1960 as Australia 's central bank and banknote issuing authority, when the Reserve Bank Act 1959 removed the central banking functions from the Commonwealth Bank. The assets of the bank include the gold and foreign exchange reserves of Australia, which is estimated to have a net worth of A$101 billion. Nearly 94% of the RBA's employees work at its headquarters in Sydney, New South Wales and at the Business Resumption Site.\",\n",
       "   'RBA Recognized with the 2014 Microsoft US Regional Partner of the ... by PR Newswire. Contract Awarded for supply and support the. Securitisations System used for risk management and analysis. ',\n",
       "   'The inner workings of a rebuildable atomizer are surprisingly simple. The coil inside the RBA is made of some type of resistance wire, normally Kanthal or nichrome. When a current is applied to the coil (resistance wire), it heats up and the heated coil then vaporizes the eliquid. 1 The bottom feed RBA is, perhaps, the easiest of all RBA types to build, maintain, and use. 2  It is filled from below, much like bottom coil clearomizer. 3  Bottom feed RBAs can utilize cotton instead of silica for the wick. 4  The Genesis, or genny, is a top feed RBA that utilizes a short woven mesh wire.',\n",
       "   'Results-Based Accountability® (also known as RBA) is a disciplined way of thinking and taking action that communities can use to improve the lives of children, youth, families, adults and the community as a whole. RBA is also used by organizations to improve the performance of their programs. RBA improves the lives of children, families, and communities and the performance of programs because RBA: 1  Gets from talk to action quickly; 2  Is a simple, common sense process that everyone can understand; 3  Helps groups to surface and challenge assumptions that can be barriers to innovation;',\n",
       "   'Results-Based Accountability® (also known as RBA) is a disciplined way of thinking and taking action that communities can use to improve the lives of children, youth, families, adults and the community as a whole. RBA is also used by organizations to improve the performance of their programs. Creating Community Impact with RBA. Community impact focuses on conditions of well-being for children, families and the community as a whole that a group of leaders is working collectively to improve. For example: “Residents with good jobs,” “Children ready for school,” or “A safe and clean neighborhood”.',\n",
       "   'RBA uses a data-driven, decision-making process to help communities and organizations get beyond talking about problems to taking action to solve problems. It is a simple, common sense framework that everyone can understand. RBA starts with ends and works backward, towards means. The “end” or difference you are trying to make looks slightly different if you are working on a broad community level or are focusing on your specific program or organization. RBA improves the lives of children, families, and communities and the performance of programs because RBA: 1  Gets from talk to action quickly; 2  Is a simple, common sense process that everyone can understand; 3  Helps groups to surface and challenge assumptions that can be barriers to innovation;',\n",
       "   'vs. NetIQ Identity Manager. Risk-based authentication (RBA) is a method of applying varying levels of stringency to authentication processes based on the likelihood that access to a given system could result in its being compromised. Risk-based authentication can be categorized as either user-dependent or transaction-dependent. User-dependent RBA processes employ the same authentication for every session initiated by a given user; the exact credentials that the site demands depend on who the user is.',\n",
       "   'A rebuildable atomizer (RBA), often referred to as simply a “rebuildable,” is just a special type of atomizer used in the Vape Pen and Mod Industry that connects to a personal vaporizer. 1 The bottom feed RBA is, perhaps, the easiest of all RBA types to build, maintain, and use. 2  It is filled from below, much like bottom coil clearomizer. 3  Bottom feed RBAs can utilize cotton instead of silica for the wick. 4  The Genesis, or genny, is a top feed RBA that utilizes a short woven mesh wire.',\n",
       "   'Get To Know Us. RBA is a digital and technology consultancy with roots in strategy, design and technology. Our team of specialists help progressive companies deliver modern digital experiences backed by proven technology engineering. '],\n",
       "  'url': ['https://en.wikipedia.org/wiki/Reserve_Bank_of_Australia',\n",
       "   'https://en.wikipedia.org/wiki/Reserve_Bank_of_Australia',\n",
       "   'http://acronyms.thefreedictionary.com/RBA',\n",
       "   'https://www.slimvapepen.com/rebuildable-atomizer-rba/',\n",
       "   'http://rba-africa.com/about/what-is-rba/',\n",
       "   'http://resultsleadership.org/what-is-results-based-accountability-rba/',\n",
       "   'http://rba-africa.com/about/what-is-rba/',\n",
       "   'http://searchsecurity.techtarget.com/definition/risk-based-authentication-RBA',\n",
       "   'https://www.slimvapepen.com/rebuildable-atomizer-rba/',\n",
       "   'http://www.rbaconsulting.com/']},\n",
       " 'query': 'what is rba',\n",
       " 'query_id': 19699,\n",
       " 'query_type': 'description',\n",
       " 'wellFormedAnswers': []}"
      ]
     },
     "execution_count": 92,
     "metadata": {},
     "output_type": "execute_result"
    }
   ],
   "source": [
    "ds['train'][0]"
   ]
  },
  {
   "cell_type": "code",
   "execution_count": 97,
   "metadata": {},
   "outputs": [
    {
     "name": "stderr",
     "output_type": "stream",
     "text": [
      "INFO:data.ms_marco:Loaded train dataset\n",
      "INFO:data.ms_marco:Selected 71726 rows with 1 answer\n"
     ]
    }
   ],
   "source": [
    "train_ds = ms_marco.MSMarcoDataset(split='train')"
   ]
  },
  {
   "cell_type": "code",
   "execution_count": 106,
   "metadata": {},
   "outputs": [
    {
     "data": {
      "text/plain": [
       "('how long cooking chicken legs in the big easy',\n",
       " ['Directions. 1  Arrange chicken thighs/leg quarters skin side up in a shallow baking dish. 2  Sprinkle with garlic powder. 3  Drizzle about 1/2 teaspoon soy sauce on each piece. 4  Bake at 350 degrees Fahrenheit for 45 minutes to an hour, until the skin is crisp and brown and the meat is ready to fall off the bones.'],\n",
       " ['Bake the chicken. Put the chicken in the oven and set a timer for 30 minutes. Check the chicken after 30 minutes. It should be ready when the skin is crispy and golden brown, or when the internal temperature has reached 180 degrees. Use a meat thermometer to check the temperature.',\n",
       "  \"Directions. 1  Put some olive oil in the bottom of a 9X13 pan (just enough to put the drumsticks on). 2  Add drumsticks (space enough apart so they aren't touching each other). 3  Sprinkle generously with pepper and garlic powder. 4  Bake at 375 for half an hour. 5  Bake another half an hour (or until cooked til 160 degrees)).\",\n",
       "  '1 Arrange chicken thighs/leg quarters skin side up in a shallow baking dish. 2  Sprinkle with garlic powder. 3  Drizzle about 1/2 teaspoon soy sauce on each piece. 4  Bake at 350 degrees Fahrenheit for 45 minutes to an hour, until the skin is crisp and brown and the meat is ready to fall off the bones.',\n",
       "  'Preheat the oven to 400°F. Bake the chicken, uncovered, for 35 to 40 minutes or until the chicken is no longer pink inside. You can bake the chicken legs in a 375°F. oven, if desired. Increase the baking time to 45 to 50 minutes.',\n",
       "  \"1 Put some olive oil in the bottom of a 9X13 pan (just enough to put the drumsticks on). 2  Add drumsticks (space enough apart so they aren't touching each other). 3  Sprinkle generously with pepper and garlic powder. 4  Sprinkle lightly with salt. 5  Bake at 375 for half an hour.\",\n",
       "  'Heat canola oil in pan and place the coated chicken legs side by side in a pan turning to brown evenly. Cook 20 to 25 minutes until legs are cooked through.',\n",
       "  \"Directions. 1  Put some olive oil in the bottom of a 9X13 pan (just enough to put the drumsticks on). 2  Add drumsticks (space enough apart so they aren't touching each other). 3  Sprinkle generously with pepper and garlic powder. 4  Sprinkle lightly with salt. 5  Bake at 375 for half an hour.\",\n",
       "  \"Siberian Tiger Range. Siberian (or Amur) tigers are the world's largest cats. They live primarily in eastern Russia's birch forests, though some exist in China and North Korea. There are an estimated 400 to 500 Siberian tigers living in the wild, and recent studies suggest that these numbers are stable. Size relative to a 6-ft (2-m) man:\",\n",
       "  'Motor neurons are large neurons in the brainstem and spinal cord that innervate skeletal muscle; those innervating the same muscle are grouped in proximity to form a motor neuron pool. Motor neurons receive two types of synaptic inputs from descending pathways, spinal interneurons and segmental afferents: (1) excitatory and inhibitory inputs that directly affect membrane potential and (2) neuromodulatory inputs that alter the effects of the excitatory and inhibitory inputs on membrane potential.',\n",
       "  \"To get your learner's permit in the state of Florida, you must: 1  Be at least 15 years old. 2  Complete a Traffic Laws and Substance Abuse Education (TLSAE) course. 3  This course is also referred to as Driver's Ed. 4  You can complete the course in a classroom, or you can do it online from a certified provider. Behind-the-Wheel Driving Requirements. In order to get to the next phase of the GDL, which is getting your driver's license, your parent or guardian must certify that you have completed 50 hours of supervised practice driving during your learner's permit phase, with 10 hours being driven at night.\"])"
      ]
     },
     "execution_count": 106,
     "metadata": {},
     "output_type": "execute_result"
    }
   ],
   "source": [
    "train_ds[10]"
   ]
  }
 ],
 "metadata": {
  "kernelspec": {
   "display_name": "ss-env",
   "language": "python",
   "name": "python3"
  },
  "language_info": {
   "codemirror_mode": {
    "name": "ipython",
    "version": 3
   },
   "file_extension": ".py",
   "mimetype": "text/x-python",
   "name": "python",
   "nbconvert_exporter": "python",
   "pygments_lexer": "ipython3",
   "version": "3.10.16"
  }
 },
 "nbformat": 4,
 "nbformat_minor": 2
}
